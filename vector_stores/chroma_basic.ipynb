{
 "cells": [
  {
   "cell_type": "code",
   "execution_count": null,
   "id": "98af6125",
   "metadata": {},
   "outputs": [
    {
     "data": {
      "text/plain": [
       "True"
      ]
     },
     "execution_count": 2,
     "metadata": {},
     "output_type": "execute_result"
    }
   ],
   "source": [
    "from langchain_community.vectorstores import Chroma\n",
    "from langchain.schema import Document\n",
    "from langchain_huggingface import HuggingFaceEmbeddings\n",
    "from dotenv import load_dotenv\n",
    "\n",
    "load_dotenv()"
   ]
  },
  {
   "cell_type": "code",
   "execution_count": 3,
   "id": "295f7a43",
   "metadata": {},
   "outputs": [],
   "source": [
    "doc1 = Document(\n",
    "    page_content=\"Virat kohli is one of the most successful and consistent batsmen in the world. Known for his aggressive batting style and ability to chase down targets, he has numerous records to his name.\",\n",
    "    metadata={\"team\": \"Royal Challengers Bangalore\"} \n",
    ")\n",
    "\n",
    "doc2 = Document(\n",
    "    page_content=\"Rohit Sharma is the captain of the Indian cricket team and is known for his elegant batting style. He has a unique ability to play long innings and is one of the few players to score multiple double centuries in ODIs.\",\n",
    "    metadata={\"team\": \"Mumbai Indians\"}\n",
    ")\n",
    "\n",
    "doc3 = Document(\n",
    "    page_content=\"MS Dhoni is a legendary cricketer and former captain of the Indian cricket team. He is known for his calm demeanor and exceptional finishing skills in limited-overs cricket.\",\n",
    "    metadata={\"team\": \"Chennai Super Kings\"}\n",
    ")\n",
    "\n",
    "doc4 = Document(\n",
    "    page_content=\"Jasprit Bumrah is one of the best fast bowlers in the world. Known for his unique bowling action and ability to bowl yorkers at will, he has been a key player for India in all formats of the game.\",\n",
    "    metadata={\"team\": \"Mumbai Indians\"}\n",
    ")\n",
    "\n",
    "doc4 = Document(\n",
    "    page_content=\"Hardik Pandya is an all-rounder known for his explosive batting and effective bowling. He has been a game-changer for India in limited-overs cricket.\",\n",
    "    metadata={\"team\": \"Gujarat Titans\"}\n",
    ")\n",
    "\n",
    "doc5 = Document(\n",
    "    page_content=\"Ravindra Jadeja is one of the best all-rounders in the world. He is known for his exceptional fielding, left-arm spin bowling, and explosive batting.\",\n",
    "    metadata={\"team\": \"Chennai Super Kings\"}\n",
    ")\n"
   ]
  },
  {
   "cell_type": "code",
   "execution_count": 4,
   "id": "ba7c2889",
   "metadata": {},
   "outputs": [],
   "source": [
    "docs = [doc1, doc2, doc3, doc4, doc5]"
   ]
  },
  {
   "cell_type": "code",
   "execution_count": null,
   "id": "570d739d",
   "metadata": {},
   "outputs": [
    {
     "name": "stderr",
     "output_type": "stream",
     "text": [
      "e:\\langchain\\venv\\Lib\\site-packages\\tqdm\\auto.py:21: TqdmWarning: IProgress not found. Please update jupyter and ipywidgets. See https://ipywidgets.readthedocs.io/en/stable/user_install.html\n",
      "  from .autonotebook import tqdm as notebook_tqdm\n",
      "C:\\Users\\Mitesh\\AppData\\Local\\Temp\\ipykernel_23016\\2088468265.py:1: LangChainDeprecationWarning: The class `Chroma` was deprecated in LangChain 0.2.9 and will be removed in 1.0. An updated version of the class exists in the :class:`~langchain-chroma package and should be used instead. To use it run `pip install -U :class:`~langchain-chroma` and import as `from :class:`~langchain_chroma import Chroma``.\n",
      "  vector_store = Chroma(\n"
     ]
    }
   ],
   "source": [
    "# Initialize the Chroma vector store\n",
    "vector_store = Chroma(\n",
    "    embedding_function=HuggingFaceEmbeddings(),  \n",
    "    persist_directory=\"chroma_db\",\n",
    "    collection_name=\"cricket_players\",\n",
    ")"
   ]
  },
  {
   "cell_type": "code",
   "execution_count": null,
   "id": "c0d3cd48",
   "metadata": {},
   "outputs": [
    {
     "data": {
      "text/plain": [
       "['3ffdac26-451a-4a45-8b94-4e720c3ec048',\n",
       " '29e52398-7acb-43c2-8cc5-a98f9208e97f',\n",
       " 'ae1d57f7-f4aa-4f77-8040-1531560ef3f6',\n",
       " '1c2c67cd-effb-46af-855b-f9258fc3c18c',\n",
       " '03ac6920-38db-4a53-9ea2-2174536b5f14']"
      ]
     },
     "execution_count": 6,
     "metadata": {},
     "output_type": "execute_result"
    }
   ],
   "source": [
    "# Add documents to the vector store\n",
    "vector_store.add_documents(docs)"
   ]
  },
  {
   "cell_type": "code",
   "execution_count": 8,
   "id": "a5ae9440",
   "metadata": {},
   "outputs": [
    {
     "data": {
      "text/plain": [
       "{'ids': ['3ffdac26-451a-4a45-8b94-4e720c3ec048',\n",
       "  '29e52398-7acb-43c2-8cc5-a98f9208e97f',\n",
       "  'ae1d57f7-f4aa-4f77-8040-1531560ef3f6',\n",
       "  '1c2c67cd-effb-46af-855b-f9258fc3c18c',\n",
       "  '03ac6920-38db-4a53-9ea2-2174536b5f14'],\n",
       " 'embeddings': array([[-0.03409765, -0.00386583, -0.00877156, ...,  0.0657433 ,\n",
       "         -0.00708175, -0.03216153],\n",
       "        [-0.03392847, -0.01585073, -0.01058057, ...,  0.01322433,\n",
       "         -0.01715081, -0.03074991],\n",
       "        [-0.04560737,  0.01741896, -0.00883403, ...,  0.04687298,\n",
       "         -0.00216252,  0.00471343],\n",
       "        [ 0.00753436, -0.05783515, -0.01420634, ...,  0.03162378,\n",
       "         -0.03665972, -0.02414312],\n",
       "        [ 0.01240405, -0.02023672,  0.00796079, ...,  0.02058575,\n",
       "          0.01793223, -0.03247325]], shape=(5, 768)),\n",
       " 'documents': ['Virat kohli is one of the most successful and consistent batsmen in the world. Known for his aggressive batting style and ability to chase down targets, he has numerous records to his name.',\n",
       "  'Rohit Sharma is the captain of the Indian cricket team and is known for his elegant batting style. He has a unique ability to play long innings and is one of the few players to score multiple double centuries in ODIs.',\n",
       "  'MS Dhoni is a legendary cricketer and former captain of the Indian cricket team. He is known for his calm demeanor and exceptional finishing skills in limited-overs cricket.',\n",
       "  'Hardik Pandya is an all-rounder known for his explosive batting and effective bowling. He has been a game-changer for India in limited-overs cricket.',\n",
       "  'Ravindra Jadeja is one of the best all-rounders in the world. He is known for his exceptional fielding, left-arm spin bowling, and explosive batting.'],\n",
       " 'uris': None,\n",
       " 'included': ['documents', 'metadatas', 'embeddings'],\n",
       " 'data': None,\n",
       " 'metadatas': [{'team': 'Royal Challengers Bangalore'},\n",
       "  {'team': 'Mumbai Indians'},\n",
       "  {'team': 'Chennai Super Kings'},\n",
       "  {'team': 'Gujarat Titans'},\n",
       "  {'team': 'Chennai Super Kings'}]}"
      ]
     },
     "execution_count": 8,
     "metadata": {},
     "output_type": "execute_result"
    }
   ],
   "source": [
    "# View Documents\n",
    "vector_store.get(include=[\"documents\", \"metadatas\", \"embeddings\"])"
   ]
  },
  {
   "cell_type": "code",
   "execution_count": null,
   "id": "e81cb520",
   "metadata": {},
   "outputs": [
    {
     "data": {
      "text/plain": [
       "{'ids': ['03ac6920-38db-4a53-9ea2-2174536b5f14'],\n",
       " 'embeddings': None,\n",
       " 'documents': ['Ravindra Jadeja is one of the best all-rounders in the world. He is known for his exceptional fielding, left-arm spin bowling, and explosive batting.'],\n",
       " 'uris': None,\n",
       " 'included': ['metadatas', 'documents'],\n",
       " 'data': None,\n",
       " 'metadatas': [{'team': 'Chennai Super Kings'}]}"
      ]
     },
     "execution_count": 15,
     "metadata": {},
     "output_type": "execute_result"
    }
   ],
   "source": [
    "# Get document by its ID\n",
    "result = vector_store.get(\"03ac6920-38db-4a53-9ea2-2174536b5f14\")\n",
    "result"
   ]
  },
  {
   "cell_type": "code",
   "execution_count": 25,
   "id": "1e9fc87c",
   "metadata": {},
   "outputs": [
    {
     "data": {
      "text/plain": [
       "[Document(metadata={'team': 'Royal Challengers Bangalore'}, page_content='Virat kohli is one of the most successful and consistent batsmen in the world. Known for his aggressive batting style and ability to chase down targets, he has numerous records to his name.')]"
      ]
     },
     "execution_count": 25,
     "metadata": {},
     "output_type": "execute_result"
    }
   ],
   "source": [
    "# Search documents from the similariy search\n",
    "\n",
    "query = \"Who is the best batsman?\"\n",
    "vector_store.similarity_search(query, k=1)"
   ]
  },
  {
   "cell_type": "code",
   "execution_count": null,
   "id": "a953bf54",
   "metadata": {},
   "outputs": [
    {
     "data": {
      "text/plain": [
       "[(Document(metadata={'team': 'Royal Challengers Bangalore'}, page_content='Virat kohli is one of the most successful and consistent batsmen in the world. Known for his aggressive batting style and ability to chase down targets, he has numerous records to his name.'),\n",
       "  0.8112376928329468),\n",
       " (Document(metadata={'team': 'Chennai Super Kings'}, page_content='Ravindra Jadeja is one of the best all-rounders in the world. He is known for his exceptional fielding, left-arm spin bowling, and explosive batting.'),\n",
       "  0.8738961815834045),\n",
       " (Document(metadata={'team': 'Mumbai Indians'}, page_content='Rohit Sharma is the captain of the Indian cricket team and is known for his elegant batting style. He has a unique ability to play long innings and is one of the few players to score multiple double centuries in ODIs.'),\n",
       "  0.9843034744262695),\n",
       " (Document(metadata={'team': 'Chennai Super Kings'}, page_content='MS Dhoni is a legendary cricketer and former captain of the Indian cricket team. He is known for his calm demeanor and exceptional finishing skills in limited-overs cricket.'),\n",
       "  1.044532060623169),\n",
       " (Document(metadata={'team': 'Gujarat Titans'}, page_content='Hardik Pandya is an all-rounder known for his explosive batting and effective bowling. He has been a game-changer for India in limited-overs cricket.'),\n",
       "  1.1276499032974243)]"
      ]
     },
     "execution_count": 28,
     "metadata": {},
     "output_type": "execute_result"
    }
   ],
   "source": [
    "# Similarity with its score\n",
    "vector_store.similarity_search_with_score(query, k=5)\n",
    "\n",
    "# The lesser the score the better the similarity"
   ]
  },
  {
   "cell_type": "code",
   "execution_count": 31,
   "id": "b3befc55",
   "metadata": {},
   "outputs": [
    {
     "data": {
      "text/plain": [
       "[(Document(metadata={'team': 'Mumbai Indians'}, page_content='Rohit Sharma is the captain of the Indian cricket team and is known for his elegant batting style. He has a unique ability to play long innings and is one of the few players to score multiple double centuries in ODIs.'),\n",
       "  1.953268051147461)]"
      ]
     },
     "execution_count": 31,
     "metadata": {},
     "output_type": "execute_result"
    }
   ],
   "source": [
    "# metadata filtering\n",
    "vector_store.similarity_search_with_score(\n",
    "    query=\"\",\n",
    "    filter={\"team\": \"Mumbai Indians\"},\n",
    ")"
   ]
  },
  {
   "cell_type": "code",
   "execution_count": 32,
   "id": "e905404f",
   "metadata": {},
   "outputs": [],
   "source": [
    "# Update document\n",
    "\n",
    "updated_doc = Document(\n",
    "    page_content=\"Virat kohli is from RCB team and yet being so much best in batting he is not able to win the IPL trophy for his team. He is one of the best batsman in the world.\",\n",
    "    metadata={\"team\": \"Royal Challengers Bangalore\"}\n",
    ")\n",
    "\n",
    "vector_store.update_document(document_id=\"3ffdac26-451a-4a45-8b94-4e720c3ec048\" , document=updated_doc)"
   ]
  },
  {
   "cell_type": "code",
   "execution_count": 34,
   "id": "a2294258",
   "metadata": {},
   "outputs": [
    {
     "data": {
      "text/plain": [
       "{'ids': ['3ffdac26-451a-4a45-8b94-4e720c3ec048'],\n",
       " 'embeddings': None,\n",
       " 'documents': ['Virat kohli is from RCB team and yet being so much best in batting he is not able to win the IPL trophy for his team. He is one of the best batsman in the world.'],\n",
       " 'uris': None,\n",
       " 'included': ['metadatas', 'documents'],\n",
       " 'data': None,\n",
       " 'metadatas': [{'team': 'Royal Challengers Bangalore'}]}"
      ]
     },
     "execution_count": 34,
     "metadata": {},
     "output_type": "execute_result"
    }
   ],
   "source": [
    "# see the updated document\n",
    "vector_store.get(limit=1)"
   ]
  },
  {
   "cell_type": "code",
   "execution_count": 38,
   "id": "626141ab",
   "metadata": {},
   "outputs": [],
   "source": [
    "# Delete the document\n",
    "\n",
    "vector_store.delete(ids=[\"3ffdac26-451a-4a45-8b94-4e720c3ec048\"])"
   ]
  },
  {
   "cell_type": "code",
   "execution_count": 39,
   "id": "2251f46f",
   "metadata": {},
   "outputs": [
    {
     "data": {
      "text/plain": [
       "{'ids': ['29e52398-7acb-43c2-8cc5-a98f9208e97f',\n",
       "  'ae1d57f7-f4aa-4f77-8040-1531560ef3f6',\n",
       "  '1c2c67cd-effb-46af-855b-f9258fc3c18c',\n",
       "  '03ac6920-38db-4a53-9ea2-2174536b5f14'],\n",
       " 'embeddings': None,\n",
       " 'documents': ['Rohit Sharma is the captain of the Indian cricket team and is known for his elegant batting style. He has a unique ability to play long innings and is one of the few players to score multiple double centuries in ODIs.',\n",
       "  'MS Dhoni is a legendary cricketer and former captain of the Indian cricket team. He is known for his calm demeanor and exceptional finishing skills in limited-overs cricket.',\n",
       "  'Hardik Pandya is an all-rounder known for his explosive batting and effective bowling. He has been a game-changer for India in limited-overs cricket.',\n",
       "  'Ravindra Jadeja is one of the best all-rounders in the world. He is known for his exceptional fielding, left-arm spin bowling, and explosive batting.'],\n",
       " 'uris': None,\n",
       " 'included': ['metadatas', 'documents'],\n",
       " 'data': None,\n",
       " 'metadatas': [{'team': 'Mumbai Indians'},\n",
       "  {'team': 'Chennai Super Kings'},\n",
       "  {'team': 'Gujarat Titans'},\n",
       "  {'team': 'Chennai Super Kings'}]}"
      ]
     },
     "execution_count": 39,
     "metadata": {},
     "output_type": "execute_result"
    }
   ],
   "source": [
    "vector_store.get()"
   ]
  },
  {
   "cell_type": "code",
   "execution_count": null,
   "id": "c9e032da",
   "metadata": {},
   "outputs": [],
   "source": []
  }
 ],
 "metadata": {
  "kernelspec": {
   "display_name": "venv",
   "language": "python",
   "name": "python3"
  },
  "language_info": {
   "codemirror_mode": {
    "name": "ipython",
    "version": 3
   },
   "file_extension": ".py",
   "mimetype": "text/x-python",
   "name": "python",
   "nbconvert_exporter": "python",
   "pygments_lexer": "ipython3",
   "version": "3.11.3"
  }
 },
 "nbformat": 4,
 "nbformat_minor": 5
}
