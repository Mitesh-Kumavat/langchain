{
 "cells": [
  {
   "cell_type": "code",
   "execution_count": 1,
   "id": "f0386fb9",
   "metadata": {},
   "outputs": [
    {
     "name": "stderr",
     "output_type": "stream",
     "text": [
      "e:\\langchain\\venv\\Lib\\site-packages\\tqdm\\auto.py:21: TqdmWarning: IProgress not found. Please update jupyter and ipywidgets. See https://ipywidgets.readthedocs.io/en/stable/user_install.html\n",
      "  from .autonotebook import tqdm as notebook_tqdm\n"
     ]
    }
   ],
   "source": [
    "from langchain_google_genai import ChatGoogleGenerativeAI\n",
    "from langchain_core.tools import tool\n",
    "import requests"
   ]
  },
  {
   "cell_type": "code",
   "execution_count": 3,
   "id": "bc2ef528",
   "metadata": {},
   "outputs": [],
   "source": [
    "from langchain_community.tools import DuckDuckGoSearchRun\n",
    "\n",
    "search_tool = DuckDuckGoSearchRun()"
   ]
  },
  {
   "cell_type": "code",
   "execution_count": 4,
   "id": "1e60730d",
   "metadata": {},
   "outputs": [],
   "source": [
    "from dotenv import load_dotenv\n",
    "import os\n",
    "load_dotenv()\n",
    "\n",
    "WEATHER_API_KEY = os.getenv(\"WEATHER_API_KEY\")\n",
    "if not WEATHER_API_KEY:\n",
    "    raise ValueError(\"WEATHER_API_KEY environment variable is not set.\")\n"
   ]
  },
  {
   "cell_type": "code",
   "execution_count": 9,
   "id": "d619dd45",
   "metadata": {},
   "outputs": [],
   "source": [
    "@tool\n",
    "def get_weather_data(city: str) -> str:\n",
    "    \"\"\"\n",
    "    Get the current weather for a given city.\n",
    "    \"\"\"\n",
    "    url = f\"https://api.weatherstack.com/current?access_key={WEATHER_API_KEY}&query={city}\"\n",
    "    response = requests.get(url)\n",
    "    \n",
    "    return response.json()"
   ]
  },
  {
   "cell_type": "code",
   "execution_count": 6,
   "id": "22873f97",
   "metadata": {},
   "outputs": [],
   "source": [
    "llm = ChatGoogleGenerativeAI(\n",
    "    model=\"gemini-1.5-flash\"\n",
    ")"
   ]
  },
  {
   "cell_type": "code",
   "execution_count": 7,
   "id": "5ce0f4d6",
   "metadata": {},
   "outputs": [],
   "source": [
    "from langchain.agents import create_react_agent, AgentExecutor\n",
    "from langchain import hub"
   ]
  },
  {
   "cell_type": "code",
   "execution_count": 8,
   "id": "25ffe5cf",
   "metadata": {},
   "outputs": [
    {
     "name": "stderr",
     "output_type": "stream",
     "text": [
      "e:\\langchain\\venv\\Lib\\site-packages\\langsmith\\client.py:278: LangSmithMissingAPIKeyWarning: API key must be provided when using hosted LangSmith API\n",
      "  warnings.warn(\n"
     ]
    }
   ],
   "source": [
    "prompt = hub.pull('hwchase17/react')"
   ]
  },
  {
   "cell_type": "code",
   "execution_count": 10,
   "id": "8457d997",
   "metadata": {},
   "outputs": [],
   "source": [
    "agent = create_react_agent(\n",
    "    llm=llm,\n",
    "    tools=[search_tool, get_weather_data],\n",
    "    prompt=prompt\n",
    ")"
   ]
  },
  {
   "cell_type": "code",
   "execution_count": 11,
   "id": "1c27047b",
   "metadata": {},
   "outputs": [],
   "source": [
    "agent_executor = AgentExecutor(\n",
    "    agent=agent,\n",
    "    tools=[search_tool, get_weather_data],\n",
    "    verbose=True,\n",
    ")"
   ]
  },
  {
   "cell_type": "code",
   "execution_count": 15,
   "id": "43e20911",
   "metadata": {},
   "outputs": [
    {
     "name": "stdout",
     "output_type": "stream",
     "text": [
      "\n",
      "\n",
      "\u001b[1m> Entering new AgentExecutor chain...\u001b[0m\n",
      "\u001b[32;1m\u001b[1;3mThought: I need to find the capital of Gujarat first, then I can get the weather for that city.\n",
      "Action: duckduckgo_search\n",
      "Action Input: capital of Gujarat\u001b[0m\u001b[36;1m\u001b[1;3mLearn why Gandhinagar is the capital of Gujarat since 1970, and what was the old capital before that. Find out more facts and trivia about Gujarat's history, geography, culture, and economy. Gujarat is a state of India located on the country's western coast on the Arabian Sea. It encompasses the entire Kathiawar Peninsula as well as the surrounding area on the mainland. The coastline of Gujarat is 992 miles (1,596 km) long, and no part of the state is more than 100 miles (160 km) from the sea. Its capital is Gandhinagar. The capital of Gujarat was changed from Ahmedabad to Gandhinagar for several reasons. Firstly, Ahmedabad was considered too crowded and congested for a modern administrative center. Secondly, Gandhinagar is centrally located and provides easy access to all parts of the state. Ahmedabad, the former capital of Gujarat, played a significant role in the development and growth of the state. However, due to population density concerns, the government decided to establish a new capital. Thus, Gandhinagar was carefully selected to serve as a planned city and the new capital of Gujarat. This move aimed to alleviate ... Gujarat is a state with diverse culture, history and geography. Gandhinagar is the state capital, named after Mahatma Gandhi, and Ahmedabad, Surat, Baroda, Rajkot are some other major cities.\u001b[0m\u001b[32;1m\u001b[1;3mQuestion: find the capital of gujarat and find its weather\n",
      "Thought: I need to find the capital of Gujarat first, then I can get the weather for that city.\n",
      "Action: duckduckgo_search\n",
      "Action Input: capital of Gujarat\u001b[0m\u001b[36;1m\u001b[1;3mLearn why Gandhinagar is the capital of Gujarat since 1970, and what was the old capital before that. Find out more facts and trivia about Gujarat's history, geography, culture, and economy. Gujarat is a state of India located on the country's western coast on the Arabian Sea. It encompasses the entire Kathiawar Peninsula as well as the surrounding area on the mainland. The coastline of Gujarat is 992 miles (1,596 km) long, and no part of the state is more than 100 miles (160 km) from the sea. Its capital is Gandhinagar. The capital of Gujarat was changed from Ahmedabad to Gandhinagar for several reasons. Firstly, Ahmedabad was considered too crowded and congested for a modern administrative center. Secondly, Gandhinagar is centrally located and provides easy access to all parts of the state. Ahmedabad, the former capital of Gujarat, played a significant role in the development and growth of the state. However, due to population density concerns, the government decided to establish a new capital. Thus, Gandhinagar was carefully selected to serve as a planned city and the new capital of Gujarat. This move aimed to alleviate ... Gujarat is a state with diverse culture, history and geography. Gandhinagar is the state capital, named after Mahatma Gandhi, and Ahmedabad, Surat, Baroda, Rajkot are some other major cities.\u001b[0m\u001b[32;1m\u001b[1;3mQuestion: find the capital of gujarat and find its weather\n",
      "Thought: I need to find the capital of Gujarat first, then I can get the weather for that city.\n",
      "Action: duckduckgo_search\n",
      "Action Input: capital of Gujarat\u001b[0m\u001b[36;1m\u001b[1;3mLearn why Gandhinagar is the capital of Gujarat since 1970, and what was the old capital before that. Find out more facts and trivia about Gujarat's history, geography, culture, and economy. Gujarat is a state of India located on the country's western coast on the Arabian Sea. It encompasses the entire Kathiawar Peninsula as well as the surrounding area on the mainland. The coastline of Gujarat is 992 miles (1,596 km) long, and no part of the state is more than 100 miles (160 km) from the sea. Its capital is Gandhinagar. The capital of Gujarat was changed from Ahmedabad to Gandhinagar for several reasons. Firstly, Ahmedabad was considered too crowded and congested for a modern administrative center. Secondly, Gandhinagar is centrally located and provides easy access to all parts of the state. Ahmedabad, the former capital of Gujarat, played a significant role in the development and growth of the state. However, due to population density concerns, the government decided to establish a new capital. Thus, Gandhinagar was carefully selected to serve as a planned city and the new capital of Gujarat. This move aimed to alleviate ... Gujarat is a state with diverse culture, history and geography. Gandhinagar is the state capital, named after Mahatma Gandhi, and Ahmedabad, Surat, Baroda, Rajkot are some other major cities.\u001b[0m\u001b[32;1m\u001b[1;3mThought: The capital of Gujarat is Gandhinagar.  I need to get the weather there.\n",
      "Action: get_weather_data\n",
      "Action Input: Gandhinagar\u001b[0m\u001b[33;1m\u001b[1;3m{'request': {'type': 'City', 'query': 'Gandhinagar, India', 'language': 'en', 'unit': 'm'}, 'location': {'name': 'Gandhinagar', 'country': 'India', 'region': 'Gujarat', 'lat': '23.217', 'lon': '72.683', 'timezone_id': 'Asia/Kolkata', 'localtime': '2025-05-02 18:06', 'localtime_epoch': 1746209160, 'utc_offset': '5.50'}, 'current': {'observation_time': '12:36 PM', 'temperature': 40, 'weather_code': 113, 'weather_icons': ['https://cdn.worldweatheronline.com/images/wsymbols01_png_64/wsymbol_0001_sunny.png'], 'weather_descriptions': ['Sunny'], 'astro': {'sunrise': '06:05 AM', 'sunset': '07:08 PM', 'moonrise': '10:02 AM', 'moonset': 'No moonset', 'moon_phase': 'Waxing Crescent', 'moon_illumination': 24}, 'air_quality': {'co': '314.5', 'no2': '4.625', 'o3': '148', 'so2': '16.28', 'pm2_5': '29.045', 'pm10': '81.585', 'us-epa-index': '2', 'gb-defra-index': '2'}, 'wind_speed': 27, 'wind_degree': 268, 'wind_dir': 'W', 'pressure': 1003, 'precip': 0, 'humidity': 15, 'cloudcover': 0, 'feelslike': 40, 'uv_index': 0, 'visibility': 6, 'is_day': 'yes'}}\u001b[0m\u001b[32;1m\u001b[1;3mThought: I now know the final answer.\n",
      "Final Answer: The capital of Gujarat is Gandhinagar.  The current weather in Gandhinagar is sunny with a temperature of 40 degrees.\u001b[0m\n",
      "\n",
      "\u001b[1m> Finished chain.\u001b[0m\n"
     ]
    }
   ],
   "source": [
    "response = agent_executor.invoke({\"input\": 'find the capital of gujarat and find its weather'})"
   ]
  },
  {
   "cell_type": "code",
   "execution_count": 16,
   "id": "1accc8b0",
   "metadata": {},
   "outputs": [
    {
     "data": {
      "text/plain": [
       "{'input': 'find the capital of gujarat and find its weather',\n",
       " 'output': 'The capital of Gujarat is Gandhinagar.  The current weather in Gandhinagar is sunny with a temperature of 40 degrees.'}"
      ]
     },
     "execution_count": 16,
     "metadata": {},
     "output_type": "execute_result"
    }
   ],
   "source": [
    "response"
   ]
  },
  {
   "cell_type": "code",
   "execution_count": null,
   "id": "a3523982",
   "metadata": {},
   "outputs": [],
   "source": []
  }
 ],
 "metadata": {
  "kernelspec": {
   "display_name": "venv",
   "language": "python",
   "name": "python3"
  },
  "language_info": {
   "codemirror_mode": {
    "name": "ipython",
    "version": 3
   },
   "file_extension": ".py",
   "mimetype": "text/x-python",
   "name": "python",
   "nbconvert_exporter": "python",
   "pygments_lexer": "ipython3",
   "version": "3.11.3"
  }
 },
 "nbformat": 4,
 "nbformat_minor": 5
}
