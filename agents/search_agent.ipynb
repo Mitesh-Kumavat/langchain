{
 "cells": [
  {
   "cell_type": "code",
   "execution_count": 4,
   "id": "de9b9ba4",
   "metadata": {},
   "outputs": [],
   "source": [
    "from langchain_google_genai import ChatGoogleGenerativeAI\n",
    "from langchain_core.tools import tool\n",
    "import requests"
   ]
  },
  {
   "cell_type": "code",
   "execution_count": 6,
   "id": "9c8608d7",
   "metadata": {},
   "outputs": [],
   "source": [
    "from langchain_community.tools import DuckDuckGoSearchRun\n",
    "\n",
    "search_tool = DuckDuckGoSearchRun()\n",
    "\n",
    "results = search_tool.invoke('top news in india today')"
   ]
  },
  {
   "cell_type": "code",
   "execution_count": 7,
   "id": "14c0b0ea",
   "metadata": {},
   "outputs": [
    {
     "data": {
      "text/plain": [
       "\"India News; May 01, 2025 16:29 pm IST. Published On Apr 30, 2025 07:59 am IST. Last Updated On May 01, 2025 16:29 pm IST. Share. Twitter WhatsApp Facebook Reddit ... India News | Latest India News | Read latest and breaking news from India. Today's top India news headlines, news on Indian politics, elections, government, business, technology, and Bollywood. India responds: In the aftermath of a deadly terrorist attack in Pahalgam that killed 26 people, India has suspended the Indus Waters Treaty, besides downgrading diplomatic ties with Pakistan, citing evidence of cross-border involvement. Foreign Secretary Vikram Misri said the Cabinet Committee on Security (CCS), chaired by Prime Minister Narendra Modi, convened shortly after the attack to ... Headlines today: Get news headlines from India and around the world. Today's breaking news on politics, sports, entertainment, business, life style and many more on Times of India Prime Minister Narendra Modi chaired key meetings today, including the Cabinet Committee on Security (CCS). The Cabinet Committee on Security (CCS), chaired by PM Modi, has reviewed the overall security situation in Jammu and Kashmir amid speculation about India's potential response to the Pahalgam terrorist attack, WION learned from sources familiar with the matter.\""
      ]
     },
     "execution_count": 7,
     "metadata": {},
     "output_type": "execute_result"
    }
   ],
   "source": [
    "results"
   ]
  },
  {
   "cell_type": "code",
   "execution_count": 8,
   "id": "42d2435b",
   "metadata": {},
   "outputs": [],
   "source": [
    "llm = ChatGoogleGenerativeAI(\n",
    "    model='gemini-1.5-flash'\n",
    ")"
   ]
  },
  {
   "cell_type": "code",
   "execution_count": 11,
   "id": "deeb3528",
   "metadata": {},
   "outputs": [],
   "source": [
    "from langchain.agents import create_react_agent, AgentExecutor\n",
    "from langchain import hub"
   ]
  },
  {
   "cell_type": "code",
   "execution_count": null,
   "id": "17060e41",
   "metadata": {},
   "outputs": [
    {
     "name": "stderr",
     "output_type": "stream",
     "text": [
      "e:\\langchain\\venv\\Lib\\site-packages\\langsmith\\client.py:278: LangSmithMissingAPIKeyWarning: API key must be provided when using hosted LangSmith API\n",
      "  warnings.warn(\n"
     ]
    }
   ],
   "source": [
    "# pull the ReAct prompt from the hub\n",
    "prompt = hub.pull('hwchase17/react')"
   ]
  },
  {
   "cell_type": "code",
   "execution_count": 13,
   "id": "8ebfc603",
   "metadata": {},
   "outputs": [],
   "source": [
    "agent = create_react_agent(\n",
    "    llm=llm,\n",
    "    tools=[search_tool],\n",
    "    prompt=prompt\n",
    ")"
   ]
  },
  {
   "cell_type": "code",
   "execution_count": 14,
   "id": "1799959f",
   "metadata": {},
   "outputs": [],
   "source": [
    "agent_executor = AgentExecutor(\n",
    "    agent=agent,\n",
    "    tools=[search_tool],\n",
    "    verbose=True,\n",
    ")"
   ]
  },
  {
   "cell_type": "code",
   "execution_count": 16,
   "id": "8d900d02",
   "metadata": {},
   "outputs": [
    {
     "name": "stdout",
     "output_type": "stream",
     "text": [
      "\n",
      "\n",
      "\u001b[1m> Entering new AgentExecutor chain...\u001b[0m\n",
      "\u001b[32;1m\u001b[1;3mThought: I need to find a reliable source for the current gold price in India.  A quick search on DuckDuckGo should provide that information.\n",
      "\n",
      "Action: duckduckgo_search\n",
      "Action Input: \"current gold price in India\"\u001b[0m\u001b[36;1m\u001b[1;3mToday Gold Rate in India offers the most accurate live retail gold price in Indian Rupees (INR) for all major cities. ... 24kt gold price in India per gram: 7,641: Gold Price by City: 22 Carat Gold Today: 24 Carat Gold Today: City 1 gram 10 gram 1 gram 10 gram; Ahmedabad: 7,088: 70,880: 7,548: 75,480Bangalore: 7,116: 71,160: 7,584: Gold Price in India Today: per oz 279,472.64 Indian rupees. India Gold Price - Stay updated with the latest real-time gold rates in Indian Rupees (INR). View current prices per gram, ounce, tola, and kilogram for 24K, 22K, 18K, and 14K gold with live updates. The most current gold price in Indian rupee 24,22,18,14,10,6 carat Find the current gold rate in India for 24 karat and 22 karat gold per gram, tola, ounce and kilogram. See the gold price chart, history, calculator and articles on GoldPriceIndia.com. Gold Rate India Today: 24K, 22K, 18K Gold Price Per Gram: The price of 24-karat gold on May 2 is Rs 9,572 per gram, which is Rs 1 less than the previous rate. For 22-karat gold, the price is Rs ... Today gold price in India (New Delhi) in Indian Rupee per ounce, gram and tola in different karats; 24, 22, 21, 18, 14, 12, 10 based on live spot gold price\u001b[0m\u001b[32;1m\u001b[1;3mThought:The observation provides varying prices, likely due to different sources and karats.  I need to clarify which karat and source to use for a definitive answer.  I'll look for a reputable source that gives a single, current price for a specific karat.\n",
      "\n",
      "Action: duckduckgo_search\n",
      "Action Input: \"reputable source current gold price India 24 karat\"\u001b[0m\u001b[36;1m\u001b[1;3mWe started this website as an online Gold price and Silver price information service, from there we have grown a lot and we are proud to say that we are the leading and most trusted website for Gold and Silver prices across India. Needed today's Gold rate or past history, we have it all, with interactive charts and graphs. Today, the 24 Carat ... Gold Price in India Today: per oz 279,472.64 Indian rupees. India Gold Price - Stay updated with the latest real-time gold rates in Indian Rupees (INR). View current prices per gram, ounce, tola, and kilogram for 24K, 22K, 18K, and 14K gold with live updates. The most current gold price in Indian rupee 24,22,18,14,10,6 carat Gold Rate India Today: 24K, 22K, 18K Gold Price Per Gram: The price of 24-karat gold on May 2 is Rs 9,572 per gram, which is Rs 1 less than the previous rate. For 22-karat gold, the price is Rs ... If you want to invest in gold or buy gold jewellery for yourself. Find out the most recent prices for 24 karats and 22 karat gold in India and compare them so you can make a smart choice. In India, 10 grammes of 24-carat gold cost 52,785 rupees, while 10 grammes of 22-carat gold costs 47,750 rupees. Today Gold Rate Rupees per gram; 22kt gold price in India per gram: 7,165: 24kt gold price in India per gram: 7,641\u001b[0m\u001b[32;1m\u001b[1;3mThought:The observations still show discrepancies.  The most consistent price for 24-karat gold seems to be around ₹7,641 per gram, but this varies slightly across sources.  I cannot definitively state a single precise price due to the dynamic nature of commodity markets and variations in reporting.  I will provide a range and cite the observed variability.\n",
      "\n",
      "Thought: I now know the final answer.\n",
      "Final Answer: As of the time of my last search, the price of 24-karat gold in India was approximately ₹7,641 per gram, although slight variations exist depending on the source.  It's crucial to consult a reputable, real-time source for the most up-to-date information before making any transactions.\u001b[0m\n",
      "\n",
      "\u001b[1m> Finished chain.\u001b[0m\n"
     ]
    }
   ],
   "source": [
    "response = agent_executor.invoke({\"input\": 'what is the current price of gold in India?'})"
   ]
  },
  {
   "cell_type": "code",
   "execution_count": 18,
   "id": "c9b85dcc",
   "metadata": {},
   "outputs": [
    {
     "data": {
      "text/plain": [
       "{'input': 'what is the current price of gold in India?',\n",
       " 'output': \"As of the time of my last search, the price of 24-karat gold in India was approximately ₹7,641 per gram, although slight variations exist depending on the source.  It's crucial to consult a reputable, real-time source for the most up-to-date information before making any transactions.\"}"
      ]
     },
     "execution_count": 18,
     "metadata": {},
     "output_type": "execute_result"
    }
   ],
   "source": [
    "response"
   ]
  },
  {
   "cell_type": "code",
   "execution_count": null,
   "id": "038b9a9f",
   "metadata": {},
   "outputs": [],
   "source": []
  }
 ],
 "metadata": {
  "kernelspec": {
   "display_name": "venv",
   "language": "python",
   "name": "python3"
  },
  "language_info": {
   "codemirror_mode": {
    "name": "ipython",
    "version": 3
   },
   "file_extension": ".py",
   "mimetype": "text/x-python",
   "name": "python",
   "nbconvert_exporter": "python",
   "pygments_lexer": "ipython3",
   "version": "3.11.3"
  }
 },
 "nbformat": 4,
 "nbformat_minor": 5
}
