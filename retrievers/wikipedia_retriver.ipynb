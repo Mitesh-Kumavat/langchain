{
 "cells": [
  {
   "cell_type": "code",
   "execution_count": 2,
   "id": "09d9f390",
   "metadata": {},
   "outputs": [],
   "source": [
    "from langchain_huggingface import HuggingFaceEmbeddings\n",
    "from langchain_community.retrievers import WikipediaRetriever\n",
    "from dotenv import load_dotenv"
   ]
  },
  {
   "cell_type": "code",
   "execution_count": 4,
   "id": "f1bb0ac6",
   "metadata": {},
   "outputs": [
    {
     "data": {
      "text/plain": [
       "True"
      ]
     },
     "execution_count": 4,
     "metadata": {},
     "output_type": "execute_result"
    }
   ],
   "source": [
    "load_dotenv()"
   ]
  },
  {
   "cell_type": "code",
   "execution_count": 5,
   "id": "2a625293",
   "metadata": {},
   "outputs": [],
   "source": [
    "# Initialize the retriever \n",
    "retriever = WikipediaRetriever(\n",
    "    top_k_results=2,\n",
    "    lang=\"en\",\n",
    ")"
   ]
  },
  {
   "cell_type": "code",
   "execution_count": null,
   "id": "f8a3eed6",
   "metadata": {},
   "outputs": [],
   "source": [
    "# Define the query\n",
    "query = \"Blackhole in the universe\"\n",
    "\n",
    "# get the relevant documents\n",
    "docs = retriever.invoke(query)"
   ]
  },
  {
   "cell_type": "code",
   "execution_count": 11,
   "id": "a1b0f995",
   "metadata": {},
   "outputs": [
    {
     "data": {
      "text/plain": [
       "Document(metadata={'title': 'Black hole (networking)', 'summary': 'In networking, a black hole refers to a place in the network where incoming or outgoing traffic is discarded  (or \"dropped\"  or sinkholed ) without informing the source that the data did not reach its intended recipient. \\nWhen examining the topology of the network, the black holes themselves are invisible, and can only be detected by monitoring the lost traffic. \\nThe name  is presumed to have originated from a concept of an astronomical location, a black hole. \\nBlack holes were originally defined as astronomical locations which cannot be directly observed using the definition of the holes having gravitational fields from which light cannot \\nescape.  Since 2023 with the discovery of an accretion disk of a black hole,  it has been found that electromagnetic radiation produced by the disk of the black hole is available for observation by astronomy.  At least since the astronomer Heber Curtis observed during 1918 visible light from a relativistic jet produced by a black hole at the centre of the galaxy M87, the activity of black holes have been visible to science. \\n\\n', 'source': 'https://en.wikipedia.org/wiki/Black_hole_(networking)'}, page_content='In networking, a black hole refers to a place in the network where incoming or outgoing traffic is discarded  (or \"dropped\"  or sinkholed ) without informing the source that the data did not reach its intended recipient. \\nWhen examining the topology of the network, the black holes themselves are invisible, and can only be detected by monitoring the lost traffic. \\nThe name  is presumed to have originated from a concept of an astronomical location, a black hole. \\nBlack holes were originally defined as astronomical locations which cannot be directly observed using the definition of the holes having gravitational fields from which light cannot \\nescape.  Since 2023 with the discovery of an accretion disk of a black hole,  it has been found that electromagnetic radiation produced by the disk of the black hole is available for observation by astronomy.  At least since the astronomer Heber Curtis observed during 1918 visible light from a relativistic jet produced by a black hole at the centre of the galaxy M87, the activity of black holes have been visible to science. \\n\\n\\n== Addresses ==\\nA black hole IP address specifies a host machine that is not running or an address to which no host has been assigned.\\nEven though TCP/IP provides a means of communicating the delivery failure back to the sender via ICMP, traffic destined for such addresses is often just dropped.\\nBlackholed addresses are undetectable only to protocols that are both connectionless and unreliable (e.g., UDP).  Connection-oriented or reliable protocols (TCP, RUDP) will either fail to connect to a blackholed address or will fail to receive expected acknowledgements.\\nFor IPv6, the black hole prefix is 100::/64.\\nFor IPv4, no black hole address is explicitly defined, however the reserved IP addresses can help achieve a similar effect. For example, 198.51.100.0/24 is reserved for use in documentation and examples; while the RFC advises that the addresses in this range are not routed, this is not a requirement.\\nWith the invention of cryptocurrencies addresses as locations where monies exist, there is the possibility of blackholing a quantity of crypto. \\n\\n\\n== Firewalls and \"stealth\" ports ==\\nMost firewalls (and routers for household use) can be configured to silently discard packets addressed to forbidden hosts or ports, resulting in small or large \"black holes\" in the network. \\nPersonal firewalls that do not respond to ICMP echo requests (\"ping\") have been designated by some vendors as being in \"stealth mode\". \\nDespite this, in most networks the IP addresses of hosts with firewalls configured in this way are easily distinguished from invalid or otherwise unreachable IP addresses: On encountering the latter, a router will generally respond with an ICMP network rsp. host unreachable error. Network address translation (NAT), as used in home and office routers, is generally a more effective way of obscuring the layout of an internal network.\\n\\n\\n=== PMTUD black holes ===\\n\\nSome firewalls incorrectly discard all ICMP packets, including the ones needed for Path MTU discovery to work correctly. This causes TCP connections from/to/through hosts with a lower MTU to hang.\\n\\n\\n== Black hole filtering ==\\nA null route or black hole route is a network route (routing table entry) that goes nowhere. Matching packets are dropped (ignored) rather than forwarded, acting as a kind of very limited firewall. The act of using null routes is often called blackhole filtering.  \\nBlack hole filtering refers specifically to dropping packets at the routing level, usually using a routing protocol to implement the filtering on several routers at once, often dynamically to respond quickly to distributed denial-of-service attacks (DDoS).\\nRemote Triggered Black Hole Filtering (RTBH) is a technique that provides the ability to drop undesirable traffic before it enters a protected network. The Internet Exchange (IX) provider usually acquires this technology to help its members or participants to filter such attacks.\\nN')"
      ]
     },
     "execution_count": 11,
     "metadata": {},
     "output_type": "execute_result"
    }
   ],
   "source": [
    "docs[0]"
   ]
  },
  {
   "cell_type": "code",
   "execution_count": 20,
   "id": "5f899a6e",
   "metadata": {},
   "outputs": [
    {
     "name": "stdout",
     "output_type": "stream",
     "text": [
      "Document 1:  In networking, a black hole refers to a place in the network where incoming or outgoing traffic is discarded  (or \"dropped\"  or sinkholed ) without informing the source that the data did not reach its intended recipient. \n",
      "When examining the topology of the network, the black holes themselves are invisible, and can only be detected by monitoring the lost traffic. \n",
      "The name  is presumed to have originated from a concept of an astronomical location, a black hole. \n",
      "Black holes were originally defined as astronomical locations which cannot be directly observed using the definition of the holes having gravitational fields from which light cannot \n",
      "escape.  Since 2023 with the discovery of an accretion disk of a black hole,  it has been found that electromagnetic radiation produced by the disk of the black hole is available for observation by astronomy.  At least since the astronomer Heber Curtis observed during 1918 visible light from a relativistic jet produced by a black hole at the centre of the galaxy M87, the activity of black holes have been visible to science. \n",
      "\n",
      "\n",
      "\n",
      "\n",
      "Document 2:  A black hole is a massive, compact astronomical object so dense that its gravity prevents anything from escaping, even light. Albert Einstein's theory of general relativity predicts that a sufficiently compact mass will form a black hole. The boundary of no escape is called the event horizon. A black hole has a great effect on the fate and circumstances of an object crossing it, but has no locally detectable features according to general relativity. In many ways, a black hole acts like an ideal black body, as it reflects no light.  Quantum field theory in curved spacetime predicts that event horizons emit Hawking radiation, with the same spectrum as a black body of a temperature inversely proportional to its mass. This temperature is of the order of billionths of a kelvin for stellar black holes, making it essentially impossible to observe directly.\n",
      "Objects whose gravitational fields are too strong for light to escape were first considered in the 18th century by John Michell and Pierre-Simon Laplace. In 1916, Karl Schwarzschild found the first modern solution of general relativity that would characterise a black hole. Due to his influential research, the Schwarzschild metric is named after him. David Finkelstein, in 1958, first published the interpretation of \"black hole\" as a region of space from which nothing can escape. Black holes were long considered a mathematical curiosity; it was not until the 1960s that theoretical work showed they were a generic prediction of general relativity. The discovery of neutron stars by Jocelyn Bell Burnell in 1967 sparked interest in gravitationally collapsed compact objects as a possible astrophysical reality. The first black hole known was Cygnus X-1, identified by several researchers independently in 1971.\n",
      "Black holes typically form when massive stars collapse at the end of their life cycle. After a black hole has formed, it can grow by absorbing mass from its surroundings. Supermassive black holes of millions of solar masses (M☉) may form by absorbing other stars and merging with other black holes, or via direct collapse of gas clouds. There is consensus that supermassive black holes exist in the centres of most galaxies.\n",
      "The presence of a black hole can be inferred through its interaction with other matter and with electromagnetic radiation such as visible light. Matter falling toward a black hole can form an accretion disk of infalling plasma, heated by friction and emitting light. In extreme cases, this creates a quasar, some of the brightest objects in the universe. Stars passing too close to a supermassive black hole can be shredded into streamers that shine very brightly before being \"swallowed.\" If other stars are orbiting a black hole, their orbits can be used to determine the black hole's mass and location. Such observations can be used to exclude possible alternatives such as neutron stars. In this way, astronomers have identified numerous stellar black hole candidates in binary systems and established that the radio source known as Sagittarius A*, at the core of the Milky Way galaxy, contains a supermassive black hole of about 4.3 million solar masses.\n",
      "\n",
      "\n"
     ]
    }
   ],
   "source": [
    "for i, doc in enumerate(docs):\n",
    "    print(f\"Document {i+1}: \" , doc.metadata['summary'])\n",
    "    print(\"\\n\")"
   ]
  },
  {
   "cell_type": "code",
   "execution_count": null,
   "id": "03fec8a3",
   "metadata": {},
   "outputs": [],
   "source": []
  }
 ],
 "metadata": {
  "kernelspec": {
   "display_name": "venv",
   "language": "python",
   "name": "python3"
  },
  "language_info": {
   "codemirror_mode": {
    "name": "ipython",
    "version": 3
   },
   "file_extension": ".py",
   "mimetype": "text/x-python",
   "name": "python",
   "nbconvert_exporter": "python",
   "pygments_lexer": "ipython3",
   "version": "3.11.3"
  }
 },
 "nbformat": 4,
 "nbformat_minor": 5
}
