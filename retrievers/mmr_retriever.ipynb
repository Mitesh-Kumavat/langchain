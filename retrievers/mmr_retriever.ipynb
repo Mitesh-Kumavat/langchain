{
 "cells": [
  {
   "cell_type": "code",
   "execution_count": 5,
   "id": "ca04c304",
   "metadata": {},
   "outputs": [],
   "source": [
    "from langchain_huggingface import HuggingFaceEmbeddings\n",
    "from langchain_core.documents import Document\n",
    "from langchain_community.vectorstores import Chroma"
   ]
  },
  {
   "cell_type": "code",
   "execution_count": 4,
   "id": "32a3672f",
   "metadata": {},
   "outputs": [],
   "source": [
    "docs = [\n",
    "    Document(page_content=\"Langchain makes it easy to work with LLMs\"),\n",
    "    Document(page_content=\"Langchain is used to build LLMs applications\"),\n",
    "    Document(page_content=\"Chroma is used to store and search embeddings\"),\n",
    "    Document(page_content=\"Embeddings are vector representations of text\"),\n",
    "    Document(page_content=\"MMR is used for diversifying results when doing similiarity search\"),\n",
    "    Document(page_content=\"Langchain supports Chroma, Pinecone, Weaviate, and more\"),\n",
    "]"
   ]
  },
  {
   "cell_type": "code",
   "execution_count": 6,
   "id": "9e0668f4",
   "metadata": {},
   "outputs": [
    {
     "name": "stderr",
     "output_type": "stream",
     "text": [
      "e:\\langchain\\venv\\Lib\\site-packages\\tqdm\\auto.py:21: TqdmWarning: IProgress not found. Please update jupyter and ipywidgets. See https://ipywidgets.readthedocs.io/en/stable/user_install.html\n",
      "  from .autonotebook import tqdm as notebook_tqdm\n"
     ]
    }
   ],
   "source": [
    "embedding_model = HuggingFaceEmbeddings(\n",
    "    model_name=\"sentence-transformers/all-MiniLM-L6-v2\",\n",
    ")"
   ]
  },
  {
   "cell_type": "code",
   "execution_count": 7,
   "id": "b4e7627d",
   "metadata": {},
   "outputs": [],
   "source": [
    "vector_store = Chroma.from_documents(\n",
    "    documents=docs,\n",
    "    embedding=embedding_model,\n",
    ")"
   ]
  },
  {
   "cell_type": "code",
   "execution_count": 19,
   "id": "b04c4a9e",
   "metadata": {},
   "outputs": [],
   "source": [
    "retriever = vector_store.as_retriever(\n",
    "    search_type=\"mmr\",    # this enables MMR search\n",
    "    search_kwargs={\"k\": 3, \"lambda_mult\":0.5} # lambda_mult is the parameter for MMR\n",
    ")\n",
    "\n",
    "# if lambda_mult is 1, it will be equivalent to a normal similarity search\n",
    "# if lambda_mult is 0, it will give more diversity to the results"
   ]
  },
  {
   "cell_type": "code",
   "execution_count": 20,
   "id": "b527c813",
   "metadata": {},
   "outputs": [
    {
     "name": "stdout",
     "output_type": "stream",
     "text": [
      "Langchain supports Chroma, Pinecone, Weaviate, and more\n",
      "Langchain is used to build LLMs applications\n",
      "Embeddings are vector representations of text\n"
     ]
    }
   ],
   "source": [
    "query = \"What is Langchain?\"\n",
    "\n",
    "results = retriever.invoke(query)\n",
    "for result in results:\n",
    "    print(result.page_content)"
   ]
  },
  {
   "cell_type": "code",
   "execution_count": null,
   "id": "4d7d0b08",
   "metadata": {},
   "outputs": [],
   "source": []
  }
 ],
 "metadata": {
  "kernelspec": {
   "display_name": "venv",
   "language": "python",
   "name": "python3"
  },
  "language_info": {
   "codemirror_mode": {
    "name": "ipython",
    "version": 3
   },
   "file_extension": ".py",
   "mimetype": "text/x-python",
   "name": "python",
   "nbconvert_exporter": "python",
   "pygments_lexer": "ipython3",
   "version": "3.11.3"
  }
 },
 "nbformat": 4,
 "nbformat_minor": 5
}
