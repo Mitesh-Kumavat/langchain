{
 "cells": [
  {
   "cell_type": "code",
   "execution_count": 2,
   "id": "c641460c",
   "metadata": {},
   "outputs": [],
   "source": [
    "from langchain_community.vectorstores import Chroma\n",
    "from langchain_huggingface import HuggingFaceEmbeddings\n",
    "from langchain_core.documents import Document"
   ]
  },
  {
   "cell_type": "code",
   "execution_count": 3,
   "id": "568a7596",
   "metadata": {},
   "outputs": [],
   "source": [
    "documents = [\n",
    "    Document(page_content=\"Langchain helps developers build applications with LLMs easily\"),\n",
    "    Document(page_content=\"Chroma is a vector store optimized for LLM based search\"),\n",
    "    Document(page_content=\"Embeddings are used to convert text into numerical representations of vectors\"),\n",
    "    Document(page_content=\"HuggingFace provides a wide range of pre-trained models for NLP tasks\"),\n",
    "    Document(page_content=\"Python is a versatile programming language widely used in data science and machine learning\"),\n",
    "]"
   ]
  },
  {
   "cell_type": "code",
   "execution_count": null,
   "id": "157dafd7",
   "metadata": {},
   "outputs": [],
   "source": [
    "# initialize the embeddings model\n",
    "embedding_model = HuggingFaceEmbeddings(\n",
    "    model_name=\"sentence-transformers/all-MiniLM-L6-v2\",\n",
    ")\n",
    "\n",
    "# initialize the chroma store\n",
    "vector_store = Chroma.from_documents(\n",
    "    documents=documents,\n",
    "    embedding=embedding_model,\n",
    "    collection_name=\"sample_collection\"\n",
    ")"
   ]
  },
  {
   "cell_type": "code",
   "execution_count": 8,
   "id": "d7d8a9ea",
   "metadata": {},
   "outputs": [],
   "source": [
    "retriever = vector_store.as_retriever(search_kwargs={\"k\": 2})"
   ]
  },
  {
   "cell_type": "code",
   "execution_count": 9,
   "id": "56d7c3b4",
   "metadata": {},
   "outputs": [],
   "source": [
    "query = \"what is python used for?\"\n",
    "\n",
    "results = retriever.invoke(query)"
   ]
  },
  {
   "cell_type": "code",
   "execution_count": 10,
   "id": "269d614e",
   "metadata": {},
   "outputs": [
    {
     "data": {
      "text/plain": [
       "[Document(metadata={}, page_content='Python is a versatile programming language widely used in data science and machine learning'),\n",
       " Document(metadata={}, page_content='Embeddings are used to convert text into numerical representations of vectors')]"
      ]
     },
     "execution_count": 10,
     "metadata": {},
     "output_type": "execute_result"
    }
   ],
   "source": [
    "results"
   ]
  },
  {
   "cell_type": "code",
   "execution_count": 12,
   "id": "cb0a5aeb",
   "metadata": {},
   "outputs": [
    {
     "name": "stdout",
     "output_type": "stream",
     "text": [
      "\n",
      "---Result 0---\n",
      "Page Content: Python is a versatile programming language widely used in data science and machine learning\n",
      "\n",
      "---Result 1---\n",
      "Page Content: Embeddings are used to convert text into numerical representations of vectors\n"
     ]
    }
   ],
   "source": [
    "for i , doc in enumerate(results):\n",
    "    print(f'\\n---Result {i}---')\n",
    "    print(f'Page Content: {doc.page_content}')"
   ]
  }
 ],
 "metadata": {
  "kernelspec": {
   "display_name": "venv",
   "language": "python",
   "name": "python3"
  },
  "language_info": {
   "codemirror_mode": {
    "name": "ipython",
    "version": 3
   },
   "file_extension": ".py",
   "mimetype": "text/x-python",
   "name": "python",
   "nbconvert_exporter": "python",
   "pygments_lexer": "ipython3",
   "version": "3.11.3"
  }
 },
 "nbformat": 4,
 "nbformat_minor": 5
}
