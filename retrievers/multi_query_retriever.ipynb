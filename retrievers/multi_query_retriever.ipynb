{
 "cells": [
  {
   "cell_type": "code",
   "execution_count": 2,
   "id": "f1b920a6",
   "metadata": {},
   "outputs": [],
   "source": [
    "from langchain_huggingface import HuggingFaceEmbeddings\n",
    "from langchain_core.documents import Document\n",
    "from langchain_community.vectorstores import Chroma\n",
    "from langchain_google_genai import ChatGoogleGenerativeAI\n",
    "from langchain.retrievers.multi_query import MultiQueryRetriever"
   ]
  },
  {
   "cell_type": "code",
   "execution_count": 6,
   "id": "bf22ad55",
   "metadata": {},
   "outputs": [],
   "source": [
    "all_docs = [\n",
    "    Document(page_content=\"Regular walking boosts heart health and can reduce symptoms of depression.\", metadata={\"source\": \"H1\"}),\n",
    "    Document(page_content=\"Consuming leafy greens and fruits helps detox the body and improve longevity.\", metadata={\"source\": \"H2\"}),\n",
    "    Document(page_content=\"Deep sleep is crucial for cellular repair and emotional regulation.\", metadata={\"source\": \"H3\"}),\n",
    "    Document(page_content=\"Mindfulness and controlled breathing lower cortisol and improve mental clarity.\", metadata={\"source\": \"H4\"}),\n",
    "    Document(page_content=\"Drinking sufficient water throughout the day helps maintain metabolism and energy.\", metadata={\"source\": \"H5\"}),\n",
    "    Document(page_content=\"The solar energy system in modern homes helps balance electricity demand.\", metadata={\"source\": \"I1\"}),\n",
    "    Document(page_content=\"Python balances readability with power, making it a popular system design language.\", metadata={\"source\": \"I2\"}),\n",
    "    Document(page_content=\"Photosynthesis enables plants to produce energy by converting sunlight.\", metadata={\"source\": \"I3\"}),\n",
    "    Document(page_content=\"The 2022 FIFA World Cup was held in Qatar and drew global energy and excitement.\", metadata={\"source\": \"I4\"}),\n",
    "    Document(page_content=\"Black holes bend spacetime and store immense gravitational energy.\", metadata={\"source\": \"I5\"}),\n",
    "]"
   ]
  },
  {
   "cell_type": "code",
   "execution_count": 19,
   "id": "67ac590c",
   "metadata": {},
   "outputs": [],
   "source": [
    "embedding_model = HuggingFaceEmbeddings(\n",
    "    model_name=\"sentence-transformers/all-MiniLM-L6-v2\",\n",
    ")\n",
    "\n",
    "chat_model = ChatGoogleGenerativeAI(\n",
    "    model=\"gemini-1.5-flash\",\n",
    "    temperature=0.5\n",
    ")\n",
    "\n",
    "vector_store = Chroma.from_documents(\n",
    "    documents=all_docs,\n",
    "    embedding=embedding_model,\n",
    ")"
   ]
  },
  {
   "cell_type": "code",
   "execution_count": 20,
   "id": "9f9a4974",
   "metadata": {},
   "outputs": [],
   "source": [
    "similarity_retriever = vector_store.as_retriever(\n",
    "    search_kwargs={\"k\": 5},\n",
    "    search_type=\"similarity\",\n",
    ")"
   ]
  },
  {
   "cell_type": "code",
   "execution_count": 25,
   "id": "c183ef7c",
   "metadata": {},
   "outputs": [],
   "source": [
    "multiquery_retriever = MultiQueryRetriever.from_llm(\n",
    "    llm=chat_model,\n",
    "    retriever=vector_store.as_retriever(\n",
    "        search_kwargs={\"k\": 5},\n",
    "    ),\n",
    ")"
   ]
  },
  {
   "cell_type": "code",
   "execution_count": 26,
   "id": "f79d85ef",
   "metadata": {},
   "outputs": [
    {
     "name": "stdout",
     "output_type": "stream",
     "text": [
      "Similarity Result 1: Drinking sufficient water throughout the day helps maintain metabolism and energy.\n",
      "Similarity Result 2: The solar energy system in modern homes helps balance electricity demand.\n",
      "Similarity Result 3: Consuming leafy greens and fruits helps detox the body and improve longevity.\n",
      "Similarity Result 4: Mindfulness and controlled breathing lower cortisol and improve mental clarity.\n",
      "Similarity Result 5: Photosynthesis enables plants to produce energy by converting sunlight.\n",
      "\n",
      "\n",
      "MultiQuery Result 1: Drinking sufficient water throughout the day helps maintain metabolism and energy.\n",
      "MultiQuery Result 2: The solar energy system in modern homes helps balance electricity demand.\n",
      "MultiQuery Result 3: Photosynthesis enables plants to produce energy by converting sunlight.\n",
      "MultiQuery Result 4: Regular walking boosts heart health and can reduce symptoms of depression.\n",
      "MultiQuery Result 5: Consuming leafy greens and fruits helps detox the body and improve longevity.\n",
      "MultiQuery Result 6: Mindfulness and controlled breathing lower cortisol and improve mental clarity.\n",
      "MultiQuery Result 7: Deep sleep is crucial for cellular repair and emotional regulation.\n",
      "\n",
      "\n"
     ]
    }
   ],
   "source": [
    "query = \"How to improve energy levels and maintain balance?\"\n",
    "\n",
    "similarity_results = similarity_retriever.invoke(query)\n",
    "multiquery_results = multiquery_retriever.invoke(query)\n",
    "\n",
    "for i,doc in enumerate(similarity_results):\n",
    "    print(f\"Similarity Result {i+1}: {doc.page_content}\")\n",
    "print(\"\\n\")\n",
    "\n",
    "for i,doc in enumerate(multiquery_results):\n",
    "    print(f\"MultiQuery Result {i+1}: {doc.page_content}\")\n",
    "print(\"\\n\")"
   ]
  },
  {
   "cell_type": "code",
   "execution_count": null,
   "id": "c2768be9",
   "metadata": {},
   "outputs": [],
   "source": []
  }
 ],
 "metadata": {
  "kernelspec": {
   "display_name": "venv",
   "language": "python",
   "name": "python3"
  },
  "language_info": {
   "codemirror_mode": {
    "name": "ipython",
    "version": 3
   },
   "file_extension": ".py",
   "mimetype": "text/x-python",
   "name": "python",
   "nbconvert_exporter": "python",
   "pygments_lexer": "ipython3",
   "version": "3.11.3"
  }
 },
 "nbformat": 4,
 "nbformat_minor": 5
}
