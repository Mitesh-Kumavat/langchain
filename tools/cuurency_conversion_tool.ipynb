{
 "cells": [
  {
   "cell_type": "markdown",
   "id": "7ebed510",
   "metadata": {},
   "source": [
    "## Currency Converter\n",
    "\n",
    "### Description\n",
    "This is a simple currency converter that converts an amount from one currency to another using the latest exchange rates. The user can input the amount, the source currency, and the target currency, and the program will output the converted amount.\n",
    "\n",
    "#### Flow of the program:\n",
    "- Create a tool to fetch the latest currency exchange rates from an ExchangeRate-API.\n",
    "- Create a function to convert the amount from the source currency to the target currency using the fetched exchange rates.\n",
    "- "
   ]
  },
  {
   "cell_type": "code",
   "execution_count": 85,
   "id": "bae577db",
   "metadata": {},
   "outputs": [],
   "source": [
    "from langchain_core.tools import tool\n",
    "from langchain_google_genai import ChatGoogleGenerativeAI\n",
    "from langchain_core.messages import HumanMessage\n",
    "import requests\n",
    "from dotenv import load_dotenv\n",
    "import os"
   ]
  },
  {
   "cell_type": "code",
   "execution_count": 86,
   "id": "234e43aa",
   "metadata": {},
   "outputs": [],
   "source": [
    "load_dotenv()\n",
    "API_KEY = os.getenv(\"EXCHANGE_RATE_API_KEY\")"
   ]
  },
  {
   "cell_type": "code",
   "execution_count": 87,
   "id": "1f19c3a2",
   "metadata": {},
   "outputs": [],
   "source": [
    "from langchain_core.tools import InjectedToolArg\n",
    "from typing import Annotated\n",
    "\n",
    "@tool\n",
    "def get_conversion_rate(base_currency: str, target_currency: str) -> float:\n",
    "    \"\"\"\n",
    "    To fetch the current conversion rate between two currencies use this tool.\n",
    "    this tool will take two parameters base_currency and target_currency and return the conversion rate.\n",
    "    \"\"\"\n",
    "    url = f\"https://v6.exchangerate-api.com/v6/{API_KEY}/pair/{base_currency}/{target_currency}\"\n",
    "    response = requests.get(url)\n",
    "    data = response.json()\n",
    "    return data\n",
    "\n",
    "# here we have used Annotated[float, InjectedToolArg] to inject the conversion rate into the tool\n",
    "# we are saying llm that do not call this tool directly, but use the conversion rate from the previous tool and i as a (developer/runtime) will take care of calling this tool\n",
    "@tool\n",
    "def convert_currency(base_currency: float, conversion_rate: Annotated[float, InjectedToolArg]) -> float:\n",
    "    \"\"\"\n",
    "    To convert the currency from base currency to target currency using the current converstion rate use this tool.\n",
    "    \"\"\"\n",
    "    return base_currency * conversion_rate"
   ]
  },
  {
   "cell_type": "code",
   "execution_count": 88,
   "id": "bb8a32f3",
   "metadata": {},
   "outputs": [],
   "source": [
    "result = get_conversion_rate.invoke({\n",
    "    \"base_currency\": \"USD\",\n",
    "    \"target_currency\": \"INR\"\n",
    "})"
   ]
  },
  {
   "cell_type": "code",
   "execution_count": 89,
   "id": "3ebd69dd",
   "metadata": {},
   "outputs": [],
   "source": [
    "final_result = convert_currency.invoke({\n",
    "    \"base_currency\": 100,\n",
    "    \"conversion_rate\": result[\"conversion_rate\"]\n",
    "})"
   ]
  },
  {
   "cell_type": "code",
   "execution_count": 90,
   "id": "22612860",
   "metadata": {},
   "outputs": [
    {
     "data": {
      "text/plain": [
       "8543.01"
      ]
     },
     "execution_count": 90,
     "metadata": {},
     "output_type": "execute_result"
    }
   ],
   "source": [
    "final_result"
   ]
  },
  {
   "cell_type": "code",
   "execution_count": 91,
   "id": "4bc216df",
   "metadata": {},
   "outputs": [],
   "source": [
    "llm = ChatGoogleGenerativeAI(model=\"gemini-1.5-flash\")"
   ]
  },
  {
   "cell_type": "code",
   "execution_count": 92,
   "id": "a033db3a",
   "metadata": {},
   "outputs": [],
   "source": [
    "llm_with_tools = llm.bind_tools([get_conversion_rate, convert_currency])"
   ]
  },
  {
   "cell_type": "code",
   "execution_count": 101,
   "id": "1c40d2e3",
   "metadata": {},
   "outputs": [],
   "source": [
    "messages = [\n",
    "    HumanMessage(\n",
    "        content=\"What is the current conversion rate between INR and USD and convert 100 INR to USD?\"\n",
    "    )\n",
    "]"
   ]
  },
  {
   "cell_type": "code",
   "execution_count": 102,
   "id": "e62a0eae",
   "metadata": {},
   "outputs": [],
   "source": [
    "response = llm_with_tools.invoke(messages)"
   ]
  },
  {
   "cell_type": "code",
   "execution_count": 103,
   "id": "345143c7",
   "metadata": {},
   "outputs": [],
   "source": [
    "messages.append(response)"
   ]
  },
  {
   "cell_type": "code",
   "execution_count": 104,
   "id": "4ed299a1",
   "metadata": {},
   "outputs": [
    {
     "data": {
      "text/plain": [
       "[{'name': 'get_conversion_rate',\n",
       "  'args': {'target_currency': 'USD', 'base_currency': 'INR'},\n",
       "  'id': '4e2d5799-4353-445e-b81f-631a54886ab2',\n",
       "  'type': 'tool_call'},\n",
       " {'name': 'convert_currency',\n",
       "  'args': {'base_currency': 100.0},\n",
       "  'id': 'be38b2e4-6395-4f2a-bc38-dc28173ea967',\n",
       "  'type': 'tool_call'}]"
      ]
     },
     "execution_count": 104,
     "metadata": {},
     "output_type": "execute_result"
    }
   ],
   "source": [
    "response.tool_calls"
   ]
  },
  {
   "cell_type": "code",
   "execution_count": 105,
   "id": "833dc101",
   "metadata": {},
   "outputs": [],
   "source": [
    "import json\n",
    "\n",
    "for tool_call in response.tool_calls:\n",
    "    # execute the 1st tool call and get the result of conversion rate\n",
    "    # and then pass the conversion rate to the 2nd tool call \n",
    "    if tool_call['name'] == \"get_conversion_rate\":\n",
    "        conversion_rate_tool_message = get_conversion_rate.invoke(tool_call)\n",
    "        # fetch the conversion rate from the tool message\n",
    "        conversion_rate = json.loads(conversion_rate_tool_message.content)[\"conversion_rate\"]\n",
    "        # append this tool message to the messages list\n",
    "        messages.append(conversion_rate_tool_message)\n",
    "    elif tool_call['name'] == \"convert_currency\":\n",
    "        # fetch the current argument and add the conversion rate to the argument\n",
    "        tool_call['args']['conversion_rate'] = conversion_rate\n",
    "        convert_tool_message = convert_currency.invoke(tool_call)\n",
    "        # append this tool message to the messages list\n",
    "        messages.append(convert_tool_message)"
   ]
  },
  {
   "cell_type": "code",
   "execution_count": 106,
   "id": "75279e54",
   "metadata": {},
   "outputs": [
    {
     "data": {
      "text/plain": [
       "[HumanMessage(content='What is the current conversion rate between INR and USD and convert 100 INR to USD?', additional_kwargs={}, response_metadata={}),\n",
       " AIMessage(content='', additional_kwargs={'function_call': {'name': 'convert_currency', 'arguments': '{\"base_currency\": 100.0}'}}, response_metadata={'prompt_feedback': {'block_reason': 0, 'safety_ratings': []}, 'finish_reason': 'STOP', 'safety_ratings': []}, id='run-dedac525-32ac-4824-a942-ea14c80c477f-0', tool_calls=[{'name': 'get_conversion_rate', 'args': {'target_currency': 'USD', 'base_currency': 'INR'}, 'id': '4e2d5799-4353-445e-b81f-631a54886ab2', 'type': 'tool_call'}, {'name': 'convert_currency', 'args': {'base_currency': 100.0, 'conversion_rate': 0.01171}, 'id': 'be38b2e4-6395-4f2a-bc38-dc28173ea967', 'type': 'tool_call'}], usage_metadata={'input_tokens': 104, 'output_tokens': 19, 'total_tokens': 123, 'input_token_details': {'cache_read': 0}}),\n",
       " ToolMessage(content='{\"result\": \"success\", \"documentation\": \"https://www.exchangerate-api.com/docs\", \"terms_of_use\": \"https://www.exchangerate-api.com/terms\", \"time_last_update_unix\": 1745712001, \"time_last_update_utc\": \"Sun, 27 Apr 2025 00:00:01 +0000\", \"time_next_update_unix\": 1745798401, \"time_next_update_utc\": \"Mon, 28 Apr 2025 00:00:01 +0000\", \"base_code\": \"INR\", \"target_code\": \"USD\", \"conversion_rate\": 0.01171}', name='get_conversion_rate', tool_call_id='4e2d5799-4353-445e-b81f-631a54886ab2'),\n",
       " ToolMessage(content='1.171', name='convert_currency', tool_call_id='be38b2e4-6395-4f2a-bc38-dc28173ea967')]"
      ]
     },
     "execution_count": 106,
     "metadata": {},
     "output_type": "execute_result"
    }
   ],
   "source": [
    "messages"
   ]
  },
  {
   "cell_type": "code",
   "execution_count": 107,
   "id": "d7d5d8cf",
   "metadata": {},
   "outputs": [],
   "source": [
    "final_result = llm_with_tools.invoke(messages)"
   ]
  },
  {
   "cell_type": "code",
   "execution_count": 108,
   "id": "a709f88f",
   "metadata": {},
   "outputs": [
    {
     "data": {
      "text/plain": [
       "AIMessage(content='The current conversion rate between INR and USD is 0.01171. 100 INR is equal to 1.171 USD.', additional_kwargs={}, response_metadata={'prompt_feedback': {'block_reason': 0, 'safety_ratings': []}, 'finish_reason': 'STOP', 'safety_ratings': []}, id='run-a64a50d3-0fe8-4e68-bfc2-182755b1047e-0', usage_metadata={'input_tokens': 264, 'output_tokens': 35, 'total_tokens': 299, 'input_token_details': {'cache_read': 0}})"
      ]
     },
     "execution_count": 108,
     "metadata": {},
     "output_type": "execute_result"
    }
   ],
   "source": [
    "final_result"
   ]
  }
 ],
 "metadata": {
  "kernelspec": {
   "display_name": "venv",
   "language": "python",
   "name": "python3"
  },
  "language_info": {
   "codemirror_mode": {
    "name": "ipython",
    "version": 3
   },
   "file_extension": ".py",
   "mimetype": "text/x-python",
   "name": "python",
   "nbconvert_exporter": "python",
   "pygments_lexer": "ipython3",
   "version": "3.11.3"
  }
 },
 "nbformat": 4,
 "nbformat_minor": 5
}
