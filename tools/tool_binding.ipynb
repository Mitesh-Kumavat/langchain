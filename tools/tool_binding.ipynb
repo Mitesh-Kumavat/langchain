{
 "cells": [
  {
   "cell_type": "code",
   "execution_count": 43,
   "id": "179641e8",
   "metadata": {},
   "outputs": [],
   "source": [
    "from langchain_google_genai import ChatGoogleGenerativeAI\n",
    "from langchain_core.tools import tool\n",
    "from langchain_core.messages import HumanMessage"
   ]
  },
  {
   "cell_type": "code",
   "execution_count": 4,
   "id": "2b9598f0",
   "metadata": {},
   "outputs": [],
   "source": [
    "# create a tool\n",
    "\n",
    "@tool\n",
    "def multiply(a: int, b: int) -> int:\n",
    "    \"\"\"Multiplies two numbers a and b and returns the product.\"\"\"\n",
    "    return a * b"
   ]
  },
  {
   "cell_type": "code",
   "execution_count": 5,
   "id": "fb864593",
   "metadata": {},
   "outputs": [
    {
     "name": "stdout",
     "output_type": "stream",
     "text": [
      "6\n"
     ]
    }
   ],
   "source": [
    "print(multiply.invoke({ \"a\": 2, \"b\": 3}))"
   ]
  },
  {
   "cell_type": "code",
   "execution_count": 11,
   "id": "b5619fdc",
   "metadata": {},
   "outputs": [],
   "source": [
    "# create a llm \n",
    "chat_model = ChatGoogleGenerativeAI(\n",
    "    model=\"gemini-1.5-flash\"\n",
    ")"
   ]
  },
  {
   "cell_type": "code",
   "execution_count": 10,
   "id": "586f04de",
   "metadata": {},
   "outputs": [],
   "source": [
    "# this is how we can bind the tool to the llm\n",
    "llm_with_tools = chat_model.bind_tools([multiply])"
   ]
  },
  {
   "cell_type": "code",
   "execution_count": 12,
   "id": "5b12d227",
   "metadata": {},
   "outputs": [
    {
     "data": {
      "text/plain": [
       "AIMessage(content=\"I'm doing well, thank you for asking! How are you today?\", additional_kwargs={}, response_metadata={'prompt_feedback': {'block_reason': 0, 'safety_ratings': []}, 'finish_reason': 'STOP', 'safety_ratings': []}, id='run-fe59e16e-cb35-418d-87a2-2850dbf7c631-0', usage_metadata={'input_tokens': 25, 'output_tokens': 17, 'total_tokens': 42, 'input_token_details': {'cache_read': 0}})"
      ]
     },
     "execution_count": 12,
     "metadata": {},
     "output_type": "execute_result"
    }
   ],
   "source": [
    "llm_with_tools.invoke(\"hi how are you ?\")\n",
    "# here llm knows that he dont need to use the tool"
   ]
  },
  {
   "cell_type": "code",
   "execution_count": 34,
   "id": "8464e11d",
   "metadata": {},
   "outputs": [],
   "source": [
    "query = HumanMessage(\"what is 2 * 3 ?\")\n",
    "messages = [query]"
   ]
  },
  {
   "cell_type": "code",
   "execution_count": 35,
   "id": "fbdfca10",
   "metadata": {},
   "outputs": [
    {
     "data": {
      "text/plain": [
       "[HumanMessage(content='what is 2 * 3 ?', additional_kwargs={}, response_metadata={})]"
      ]
     },
     "execution_count": 35,
     "metadata": {},
     "output_type": "execute_result"
    }
   ],
   "source": [
    "messages"
   ]
  },
  {
   "cell_type": "code",
   "execution_count": 25,
   "id": "e4abcfa1",
   "metadata": {},
   "outputs": [
    {
     "data": {
      "text/plain": [
       "{'name': 'multiply',\n",
       " 'args': {'a': 2.0, 'b': 3.0},\n",
       " 'id': 'd52de42a-2048-4ba8-abfc-b358e53bdc3d',\n",
       " 'type': 'tool_call'}"
      ]
     },
     "execution_count": 25,
     "metadata": {},
     "output_type": "execute_result"
    }
   ],
   "source": [
    "# since we have created a tool to multiply two numbers and bind it to the llm, so llm will automatically use the tool to multiply two numbers\n",
    "result = llm_with_tools.invoke(messages[0].content)\n",
    "result.tool_calls[0]"
   ]
  },
  {
   "cell_type": "code",
   "execution_count": 36,
   "id": "e763e6fd",
   "metadata": {},
   "outputs": [
    {
     "data": {
      "text/plain": [
       "[HumanMessage(content='what is 2 * 3 ?', additional_kwargs={}, response_metadata={}),\n",
       " AIMessage(content='', additional_kwargs={'function_call': {'name': 'multiply', 'arguments': '{\"a\": 2.0, \"b\": 3.0}'}}, response_metadata={'prompt_feedback': {'block_reason': 0, 'safety_ratings': []}, 'finish_reason': 'STOP', 'safety_ratings': []}, id='run-d245e69d-bd0e-477d-bb69-4698a058f48f-0', tool_calls=[{'name': 'multiply', 'args': {'a': 2.0, 'b': 3.0}, 'id': 'd52de42a-2048-4ba8-abfc-b358e53bdc3d', 'type': 'tool_call'}], usage_metadata={'input_tokens': 28, 'output_tokens': 3, 'total_tokens': 31, 'input_token_details': {'cache_read': 0}})]"
      ]
     },
     "execution_count": 36,
     "metadata": {},
     "output_type": "execute_result"
    }
   ],
   "source": [
    "messages.append(result)\n",
    "messages"
   ]
  },
  {
   "cell_type": "markdown",
   "id": "26d3cf15",
   "metadata": {},
   "source": [
    "## NOTE\n",
    "- llm will never call the tool directly, it will just suggest the tool to use with the input parameters.\n",
    "- the tool will be either called by the user or by the created agent.\n",
    "---\n",
    "> here we will learn how to use the tool suggested by the llm."
   ]
  },
  {
   "cell_type": "code",
   "execution_count": 39,
   "id": "245ad13d",
   "metadata": {},
   "outputs": [
    {
     "data": {
      "text/plain": [
       "ToolMessage(content='6', name='multiply', tool_call_id='d52de42a-2048-4ba8-abfc-b358e53bdc3d')"
      ]
     },
     "execution_count": 39,
     "metadata": {},
     "output_type": "execute_result"
    }
   ],
   "source": [
    "tool_result = multiply.invoke(result.tool_calls[0])\n",
    "tool_result"
   ]
  },
  {
   "cell_type": "code",
   "execution_count": 38,
   "id": "aefe299d",
   "metadata": {},
   "outputs": [
    {
     "data": {
      "text/plain": [
       "[HumanMessage(content='what is 2 * 3 ?', additional_kwargs={}, response_metadata={}),\n",
       " AIMessage(content='', additional_kwargs={'function_call': {'name': 'multiply', 'arguments': '{\"a\": 2.0, \"b\": 3.0}'}}, response_metadata={'prompt_feedback': {'block_reason': 0, 'safety_ratings': []}, 'finish_reason': 'STOP', 'safety_ratings': []}, id='run-d245e69d-bd0e-477d-bb69-4698a058f48f-0', tool_calls=[{'name': 'multiply', 'args': {'a': 2.0, 'b': 3.0}, 'id': 'd52de42a-2048-4ba8-abfc-b358e53bdc3d', 'type': 'tool_call'}], usage_metadata={'input_tokens': 28, 'output_tokens': 3, 'total_tokens': 31, 'input_token_details': {'cache_read': 0}}),\n",
       " ToolMessage(content='6', name='multiply', tool_call_id='d52de42a-2048-4ba8-abfc-b358e53bdc3d')]"
      ]
     },
     "execution_count": 38,
     "metadata": {},
     "output_type": "execute_result"
    }
   ],
   "source": [
    "messages.append(tool_result)\n",
    "messages"
   ]
  },
  {
   "cell_type": "code",
   "execution_count": 40,
   "id": "64b6b54b",
   "metadata": {},
   "outputs": [],
   "source": [
    "result = llm_with_tools.invoke(messages)"
   ]
  },
  {
   "cell_type": "code",
   "execution_count": 42,
   "id": "650f17fa",
   "metadata": {},
   "outputs": [
    {
     "data": {
      "text/plain": [
       "'6'"
      ]
     },
     "execution_count": 42,
     "metadata": {},
     "output_type": "execute_result"
    }
   ],
   "source": [
    "result.content"
   ]
  }
 ],
 "metadata": {
  "kernelspec": {
   "display_name": "venv",
   "language": "python",
   "name": "python3"
  },
  "language_info": {
   "codemirror_mode": {
    "name": "ipython",
    "version": 3
   },
   "file_extension": ".py",
   "mimetype": "text/x-python",
   "name": "python",
   "nbconvert_exporter": "python",
   "pygments_lexer": "ipython3",
   "version": "3.11.3"
  }
 },
 "nbformat": 4,
 "nbformat_minor": 5
}
