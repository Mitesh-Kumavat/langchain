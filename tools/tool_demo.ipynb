{
 "cells": [
  {
   "cell_type": "markdown",
   "id": "dabcb7fa",
   "metadata": {},
   "source": [
    "## Built-In Tools"
   ]
  },
  {
   "cell_type": "code",
   "execution_count": 3,
   "id": "d7cd20c6",
   "metadata": {},
   "outputs": [
    {
     "name": "stdout",
     "output_type": "stream",
     "text": [
      "Requirement already satisfied: duckduckgo-search in e:\\langchain\\venv\\lib\\site-packages (8.0.1)\n",
      "Requirement already satisfied: click>=8.1.8 in e:\\langchain\\venv\\lib\\site-packages (from duckduckgo-search) (8.1.8)\n",
      "Requirement already satisfied: primp>=0.15.0 in e:\\langchain\\venv\\lib\\site-packages (from duckduckgo-search) (0.15.0)\n",
      "Requirement already satisfied: lxml>=5.3.0 in e:\\langchain\\venv\\lib\\site-packages (from duckduckgo-search) (5.4.0)\n",
      "Requirement already satisfied: colorama in e:\\langchain\\venv\\lib\\site-packages (from click>=8.1.8->duckduckgo-search) (0.4.6)\n"
     ]
    }
   ],
   "source": [
    "!pip install duckduckgo-search"
   ]
  },
  {
   "cell_type": "code",
   "execution_count": 4,
   "id": "9cf8625d",
   "metadata": {},
   "outputs": [
    {
     "name": "stdout",
     "output_type": "stream",
     "text": [
      "Today IPL match LIVE, CSK vs SRH scorecard: It's the battle of survival in the Indian Premier (IPL) today (25 April, Friday) as Chennai Super Kings (CSK) take on Sunrisers Hyderabad (SRH) at the MA Chidambaram Stadium in Chennai.Both CSK and SRH are at the bottom of the table with four points each. Both CSK and SRH have lost six games so far and have secured only two wins each. Stay updated with all the latest news on IPL 2025, including the schedule, Points Table, IPL Orange Cap, and IPL Purple Cap. Get latest Cricket news, live score and match results on News18. Download the News18 App to stay updated! Catch all the latest & breaking news on IPL 2025 Cricket series. Get all updates on IPL 2025 Cricket team players and coaches at NDTV Sports. The Sporting News followed GT vs DC match live with updates, scores, playing 11 and highlights from Ahmedabad. Check below. READ MORE: IPL 2025 full schedule, fixtures, results, and points table ... IPL 2025, GT vs DC: Jos Buttler's unbeaten 98 helped Gujarat Titans successfully chase 204 against Delhi Capitals on a hot Saturday afternoon in Ahmedabad. Gujarat returned to the top of the points table with a hat-trick of wins at home.\n"
     ]
    }
   ],
   "source": [
    "# Built-in Tool DuckDuckGoSearchRun which will search result from DuckDuckGo search engine\n",
    "from langchain_community.tools import DuckDuckGoSearchRun\n",
    "\n",
    "search_tool = DuckDuckGoSearchRun()\n",
    "\n",
    "results = search_tool.invoke(\"ipl news\")\n",
    "\n",
    "print(results)"
   ]
  },
  {
   "cell_type": "code",
   "execution_count": 17,
   "id": "fd9aac81",
   "metadata": {},
   "outputs": [
    {
     "name": "stdout",
     "output_type": "stream",
     "text": [
      "Executing command:\n",
      " cd\n"
     ]
    },
    {
     "name": "stderr",
     "output_type": "stream",
     "text": [
      "e:\\langchain\\venv\\Lib\\site-packages\\langchain_community\\tools\\shell\\tool.py:33: UserWarning: The shell tool has no safeguards by default. Use at your own risk.\n",
      "  warnings.warn(\n"
     ]
    },
    {
     "data": {
      "text/plain": [
       "'e:\\\\langchain\\\\tools\\r\\n'"
      ]
     },
     "execution_count": 17,
     "metadata": {},
     "output_type": "execute_result"
    }
   ],
   "source": [
    "# Built-in Sheel tool\n",
    "from langchain_community.tools import ShellTool\n",
    "\n",
    "shell_tool = ShellTool()\n",
    "\n",
    "result = shell_tool.invoke(\"cd\") \n",
    "result"
   ]
  },
  {
   "cell_type": "markdown",
   "id": "35701566",
   "metadata": {},
   "source": [
    "### Custom Tool using `@tool` decorator"
   ]
  },
  {
   "cell_type": "code",
   "execution_count": 1,
   "id": "cec9cead",
   "metadata": {},
   "outputs": [],
   "source": [
    "from langchain_core.tools import tool"
   ]
  },
  {
   "cell_type": "code",
   "execution_count": 18,
   "id": "f98218c8",
   "metadata": {},
   "outputs": [],
   "source": [
    "# create a function \n",
    "# add the type hints to the function\n",
    "# add tool decorator \"@tool\" to the function\n",
    "\n",
    "@tool\n",
    "def multiply(x: int, y: int) -> int:\n",
    "    \"\"\"Multiplies two numbers.\"\"\"\n",
    "    return x * y"
   ]
  },
  {
   "cell_type": "code",
   "execution_count": 10,
   "id": "6a654c00",
   "metadata": {},
   "outputs": [
    {
     "data": {
      "text/plain": [
       "6"
      ]
     },
     "execution_count": 10,
     "metadata": {},
     "output_type": "execute_result"
    }
   ],
   "source": [
    "result = multiply.invoke({\n",
    "    \"x\": 2,\n",
    "    \"y\": 3\n",
    "})\n",
    "result"
   ]
  },
  {
   "cell_type": "code",
   "execution_count": 12,
   "id": "3272376b",
   "metadata": {},
   "outputs": [
    {
     "name": "stdout",
     "output_type": "stream",
     "text": [
      "multiply\n",
      "Multiplies two numbers.\n",
      "{'x': {'title': 'X', 'type': 'integer'}, 'y': {'title': 'Y', 'type': 'integer'}}\n"
     ]
    }
   ],
   "source": [
    "print(multiply.name)\n",
    "print(multiply.description)\n",
    "print(multiply.args)"
   ]
  },
  {
   "cell_type": "markdown",
   "id": "9fea9d28",
   "metadata": {},
   "source": [
    "### Custom Tool using `StructuredTool` and `Pydantic`"
   ]
  },
  {
   "cell_type": "code",
   "execution_count": 13,
   "id": "2b00b6ef",
   "metadata": {},
   "outputs": [],
   "source": [
    "from langchain.tools import StructuredTool\n",
    "from pydantic import BaseModel, Field"
   ]
  },
  {
   "cell_type": "code",
   "execution_count": 14,
   "id": "7cc03355",
   "metadata": {},
   "outputs": [],
   "source": [
    "class MultiplyInput(BaseModel):\n",
    "    x: int = Field(required=True, description=\"The first number to multiply.\")\n",
    "    y: int = Field(required=True, description=\"The second number to multiply.\")"
   ]
  },
  {
   "cell_type": "code",
   "execution_count": 16,
   "id": "883cece7",
   "metadata": {},
   "outputs": [],
   "source": [
    "def multiply_func(x: int, y: int) -> int:\n",
    "    return x * y"
   ]
  },
  {
   "cell_type": "code",
   "execution_count": 17,
   "id": "7a9cda1f",
   "metadata": {},
   "outputs": [],
   "source": [
    "multiply_tool = StructuredTool.from_function(\n",
    "    func=multiply_func,\n",
    "    name=\"multiply\",\n",
    "    description=\"Multiplies two numbers.\",\n",
    "    args_schema=MultiplyInput,\n",
    ")"
   ]
  },
  {
   "cell_type": "code",
   "execution_count": 19,
   "id": "a7becc9d",
   "metadata": {},
   "outputs": [
    {
     "data": {
      "text/plain": [
       "6"
      ]
     },
     "execution_count": 19,
     "metadata": {},
     "output_type": "execute_result"
    }
   ],
   "source": [
    "result = multiply_tool.invoke({\n",
    "    \"x\": 2,\n",
    "    \"y\": 3\n",
    "})\n",
    "result"
   ]
  },
  {
   "cell_type": "markdown",
   "id": "bd147e70",
   "metadata": {},
   "source": [
    "### Custom Tool using `BaseTool` class"
   ]
  },
  {
   "cell_type": "code",
   "execution_count": 20,
   "id": "8728f64f",
   "metadata": {},
   "outputs": [],
   "source": [
    "from langchain.tools import BaseTool\n",
    "from typing import Type"
   ]
  },
  {
   "cell_type": "code",
   "execution_count": 21,
   "id": "a6434ff2",
   "metadata": {},
   "outputs": [],
   "source": [
    "class MultiplyInput(BaseModel):\n",
    "    x: int = Field(description=\"The first number to multiply.\")\n",
    "    y: int = Field(description=\"The second number to multiply.\")"
   ]
  },
  {
   "cell_type": "code",
   "execution_count": 22,
   "id": "6bd2f621",
   "metadata": {},
   "outputs": [],
   "source": [
    "class MultiplyTool(BaseTool):\n",
    "    name: str = \"multiply\"\n",
    "    description: str = \"Multiplies two numbers.\"\n",
    "    args_schema: Type[BaseModel] = MultiplyInput\n",
    "\n",
    "    def _run(self, x: int, y: int) -> int:\n",
    "        return x * y"
   ]
  },
  {
   "cell_type": "code",
   "execution_count": 24,
   "id": "16836be4",
   "metadata": {},
   "outputs": [],
   "source": [
    "multiply_tool = MultiplyTool()"
   ]
  },
  {
   "cell_type": "code",
   "execution_count": 25,
   "id": "b2f07243",
   "metadata": {},
   "outputs": [
    {
     "data": {
      "text/plain": [
       "6"
      ]
     },
     "execution_count": 25,
     "metadata": {},
     "output_type": "execute_result"
    }
   ],
   "source": [
    "result = multiply_tool.invoke({\n",
    "    \"x\": 2,\n",
    "    \"y\": 3\n",
    "})\n",
    "\n",
    "result"
   ]
  },
  {
   "cell_type": "markdown",
   "id": "11a65b4c",
   "metadata": {},
   "source": [
    "### Custom Toolkit\n",
    "- Toolkit is a collection of tools that can be used together to solve a problem."
   ]
  },
  {
   "cell_type": "code",
   "execution_count": 27,
   "id": "b9ee7b18",
   "metadata": {},
   "outputs": [],
   "source": [
    "from langchain_core.tools import tool\n",
    "\n",
    "@tool\n",
    "def add(x: int, y: int) -> int:\n",
    "    \"\"\"Adds two numbers.\"\"\"\n",
    "    return x + y\n",
    "\n",
    "@tool\n",
    "def subtract(x: int, y: int) -> int:\n",
    "    \"\"\"Subtracts two numbers.\"\"\"\n",
    "    return x - y\n",
    "\n",
    "@tool\n",
    "def multiply(x: int, y: int) -> int:\n",
    "    \"\"\"Multiplies two numbers.\"\"\"\n",
    "    return x * y\n",
    "\n",
    "@tool\n",
    "def divide(x: int, y: int) -> float:\n",
    "    \"\"\"Divides two numbers.\"\"\"\n",
    "    if y == 0:\n",
    "        raise ValueError(\"Cannot divide by zero.\")\n",
    "    return x / y"
   ]
  },
  {
   "cell_type": "code",
   "execution_count": 28,
   "id": "cd0d8158",
   "metadata": {},
   "outputs": [],
   "source": [
    "class MathToolKit:\n",
    "    def get_tools(self):\n",
    "        return [add, subtract, multiply, divide]"
   ]
  },
  {
   "cell_type": "code",
   "execution_count": 29,
   "id": "e94c3473",
   "metadata": {},
   "outputs": [],
   "source": [
    "toolkit = MathToolKit()\n",
    "\n",
    "tools = toolkit.get_tools()"
   ]
  },
  {
   "cell_type": "code",
   "execution_count": 35,
   "id": "bc7a3b9b",
   "metadata": {},
   "outputs": [
    {
     "name": "stdout",
     "output_type": "stream",
     "text": [
      "add => Adds two numbers.\n",
      "subtract => Subtracts two numbers.\n",
      "multiply => Multiplies two numbers.\n",
      "divide => Divides two numbers.\n"
     ]
    }
   ],
   "source": [
    "for tool in tools:\n",
    "    print(f\"{tool.name} => {tool.description}\")"
   ]
  },
  {
   "cell_type": "code",
   "execution_count": 36,
   "id": "6a626591",
   "metadata": {},
   "outputs": [],
   "source": [
    "result = tools[0].invoke({\n",
    "    \"x\": 2,\n",
    "    \"y\": 3\n",
    "})"
   ]
  },
  {
   "cell_type": "code",
   "execution_count": 37,
   "id": "dcb1205b",
   "metadata": {},
   "outputs": [
    {
     "data": {
      "text/plain": [
       "5"
      ]
     },
     "execution_count": 37,
     "metadata": {},
     "output_type": "execute_result"
    }
   ],
   "source": [
    "result"
   ]
  },
  {
   "cell_type": "code",
   "execution_count": null,
   "id": "fdfec9a3",
   "metadata": {},
   "outputs": [],
   "source": []
  }
 ],
 "metadata": {
  "kernelspec": {
   "display_name": "venv",
   "language": "python",
   "name": "python3"
  },
  "language_info": {
   "codemirror_mode": {
    "name": "ipython",
    "version": 3
   },
   "file_extension": ".py",
   "mimetype": "text/x-python",
   "name": "python",
   "nbconvert_exporter": "python",
   "pygments_lexer": "ipython3",
   "version": "3.11.3"
  }
 },
 "nbformat": 4,
 "nbformat_minor": 5
}
